{
  "nbformat": 4,
  "nbformat_minor": 0,
  "metadata": {
    "colab": {
      "provenance": [],
      "authorship_tag": "ABX9TyMk2vf5VjbJbl2xDKTZHSNm",
      "include_colab_link": true
    },
    "kernelspec": {
      "name": "python3",
      "display_name": "Python 3"
    },
    "language_info": {
      "name": "python"
    }
  },
  "cells": [
    {
      "cell_type": "markdown",
      "metadata": {
        "id": "view-in-github",
        "colab_type": "text"
      },
      "source": [
        "<a href=\"https://colab.research.google.com/github/Victoresteban-bit/METODOS-NUMERICS/blob/main/Diferencias_divididas_de_Newton.ipynb\" target=\"_parent\"><img src=\"https://colab.research.google.com/assets/colab-badge.svg\" alt=\"Open In Colab\"/></a>"
      ]
    },
    {
      "cell_type": "markdown",
      "source": [
        "# Diferencias divididas de Newton"
      ],
      "metadata": {
        "id": "yfijb_hi9jC9"
      }
    },
    {
      "cell_type": "code",
      "execution_count": 33,
      "metadata": {
        "colab": {
          "base_uri": "https://localhost:8080/"
        },
        "id": "t-7_CrKwrr20",
        "outputId": "b74a2198-9db0-4171-8f10-19576af4b338"
      },
      "outputs": [
        {
          "output_type": "stream",
          "name": "stdout",
          "text": [
            "Tabla de Diferencias Divididas:\n",
            "[[ 0.7651977   0.          0.          0.          0.        ]\n",
            " [ 0.620086   -0.48370567  0.          0.          0.        ]\n",
            " [ 0.4554022  -0.548946   -0.10873389  0.          0.        ]\n",
            " [ 0.2818186  -0.578612   -0.04944333  0.0658784   0.        ]\n",
            " [ 0.1103623  -0.571521    0.01181833  0.06806852  0.0018251 ]]\n",
            "Polinomio P(x): 0.765198 + -0.483706*(x - 1.0) + -0.108734*(x - 1.0)*(x - 1.3) + 0.065878*(x - 1.0)*(x - 1.3)*(x - 1.6) + 0.001825*(x - 1.0)*(x - 1.3)*(x - 1.6)*(x - 1.9)\n",
            "El valor del polinomio en x = 3 es: 0.0018251028806604353\n"
          ]
        }
      ],
      "source": [
        "import numpy as np\n",
        "\n",
        "def neville(x_values, f_values, x):\n",
        "    n = len(x_values)\n",
        "    F = [[0] * n for _ in range(n)]\n",
        "\n",
        "    # Paso 1: Calcular los coeficientes Fi,j\n",
        "    for i in range(n):\n",
        "        F[i][0] = f_values[i]\n",
        "\n",
        "    for i in range(1, n):\n",
        "        for j in range(1, i + 1):\n",
        "            F[i][j] = (F[i][j - 1] - F[i - 1][j - 1]) / (x_values[i] - x_values[i - j])\n",
        "\n",
        "    # Imprime la tabla de diferencias divididas usando numpy\n",
        "    print(\"Tabla de Diferencias Divididas:\")\n",
        "    print(np.array(F))\n",
        "\n",
        "    # Paso 2: Devolver el resultado\n",
        "    resultado = F[n-1][n-1]\n",
        "\n",
        "    # Construir el polinomio P(x)\n",
        "    polinomio = f\"{F[0][0]:.6f}\"  # Término constante\n",
        "    for i in range(1, n):\n",
        "        termino = f\"{F[i][i]:.6f}\"  # Coeficiente\n",
        "        for j in range(i):\n",
        "            termino += f\"*(x - {x_values[j]:.1f})\"  # Factores (x - xj)\n",
        "        polinomio += f\" + {termino}\"  # Agregar término al polinomio\n",
        "\n",
        "    print(f\"Polinomio P(x): {polinomio}\") # Imprimir el polinomio\n",
        "\n",
        "    return resultado\n",
        "\n",
        "\n",
        "\n",
        "# Ejemplo de uso\n",
        "x_values = [1.0, 1.3 , 1.6, 1.9, 2.2]\n",
        "f_x_values = [0.7651977, 0.6200860, 0.4554022, 0.2818186, 0.1103623]\n",
        "x = 3\n",
        "\n",
        "# Se debe usar f_x_values en lugar de f_values\n",
        "p_x = neville(x_values, f_x_values, x)\n",
        "print(f\"El valor del polinomio en x = {x} es: {p_x}\")\n"
      ]
    }
  ]
}