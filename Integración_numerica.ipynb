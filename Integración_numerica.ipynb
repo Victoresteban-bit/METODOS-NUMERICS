{
  "nbformat": 4,
  "nbformat_minor": 0,
  "metadata": {
    "colab": {
      "provenance": [],
      "authorship_tag": "ABX9TyOniRCK4gDSY+FJBS5yE8BR",
      "include_colab_link": true
    },
    "kernelspec": {
      "name": "python3",
      "display_name": "Python 3"
    },
    "language_info": {
      "name": "python"
    }
  },
  "cells": [
    {
      "cell_type": "markdown",
      "metadata": {
        "id": "view-in-github",
        "colab_type": "text"
      },
      "source": [
        "<a href=\"https://colab.research.google.com/github/Victoresteban-bit/METODOS-NUMERICS/blob/main/Integraci%C3%B3n_numerica.ipynb\" target=\"_parent\"><img src=\"https://colab.research.google.com/assets/colab-badge.svg\" alt=\"Open In Colab\"/></a>"
      ]
    },
    {
      "cell_type": "code",
      "execution_count": 4,
      "metadata": {
        "colab": {
          "base_uri": "https://localhost:8080/"
        },
        "id": "NJ8InQqP9VM1",
        "outputId": "f21b4f9c-94bc-4f79-81d8-32ac1621d0dd"
      },
      "outputs": [
        {
          "output_type": "stream",
          "name": "stdout",
          "text": [
            "Fórmulas Cerradas de Newton-Cotes\n",
            "Regla Trapezoidal (n=1): 0.2776801836348979\n",
            "Regla de Simpson 1/3 (n=2): 0.292932637839748\n",
            "Regla de Simpson 3/8 (n=3): 0.29291070254917145\n",
            "Fórmula Cerrada n=4: 0.29289318256126384\n",
            "\n",
            " Fórmulas Abiertas de Newton-Cotes\n",
            "Fórmula Abierta n=0 (Punto Medio): 0.30055886494217315\n",
            "Fórmula Abierta n=1: 0.29798754218726264\n",
            "Fórmula Abierta n=2: 0.2928586591925902\n",
            "Fórmula Abierta n=3: 0.29286922813608435\n",
            "\n",
            "Integral exacta: 0.292893218813452\n"
          ]
        }
      ],
      "source": [
        "from sympy import integrate, Symbol, lambdify, sin # Import SymPy's sin function\n",
        "import numpy as np\n",
        "\n",
        "def newton_cotes_closed(func, a, b, n):\n",
        "\n",
        "    x = Symbol('x')\n",
        "    f = lambdify(x, func, 'numpy')\n",
        "    h = (b - a) / n\n",
        "    x_values = np.linspace(a, b, n + 1)\n",
        "    y_values = f(x_values)\n",
        "\n",
        "    if n == 1:  # Regla Trapezoidal\n",
        "        return h / 2 * (y_values[0] + y_values[-1])\n",
        "    elif n == 2:  # Regla de Simpson 1/3\n",
        "        return h / 3 * (y_values[0] + 4 * np.sum(y_values[1:-1:2]) + 2 * np.sum(y_values[2:-2:2]) + y_values[-1])\n",
        "    elif n == 3:  # Regla de Simpson 3/8\n",
        "        return 3 * h / 8 * (y_values[0] + 3 * y_values[1] + 3 * y_values[2] + y_values[3])\n",
        "    elif n == 4:  # n=4\n",
        "        return 2 * h / 45 * (7 * y_values[0] + 32 * y_values[1] + 12 * y_values[2] + 32 * y_values[3] + 7 * y_values[4])\n",
        "    else:\n",
        "        raise ValueError(\"n para fórmulas cerradas debe ser 1, 2, 3 o 4.\")\n",
        "\n",
        "def newton_cotes_open(func, a, b, n):\n",
        "\n",
        "    x = Symbol('x')\n",
        "    f = lambdify(x, func, 'numpy')\n",
        "    h = (b - a) / (n + 2)\n",
        "    x_values = np.linspace(a + h, b - h, n + 1)\n",
        "    y_values = f(x_values)\n",
        "\n",
        "    if n == 0: # n=0 (Regla del punto medio)\n",
        "        return 2 * h * y_values[0]\n",
        "    elif n == 1: # n=1\n",
        "        return 3 * h / 2 * (y_values[0] + y_values[1])\n",
        "    elif n == 2: # n=2\n",
        "        return 4 * h / 3 * (2 * y_values[0] - y_values[1] + 2 * y_values[2])\n",
        "    elif n == 3: # n=3\n",
        "        return 5 * h / 24 * (11 * y_values[0] + y_values[1] + y_values[2] + 11 * y_values[3])\n",
        "    else:\n",
        "        raise ValueError(\"n para fórmulas abiertas debe ser 0, 1, 2 o 3.\")\n",
        "\n",
        "# Ejemplo de uso\n",
        "x = Symbol('x')\n",
        "func_to_integrate = sin(x)\n",
        "\n",
        "a = 0\n",
        "b = (np.pi/4)\n",
        "\n",
        "# Fórmulas cerradas\n",
        "print(\"Fórmulas Cerradas de Newton-Cotes\")\n",
        "print(f\"Regla Trapezoidal (n=1): {newton_cotes_closed(func_to_integrate, a, b, 1)}\")\n",
        "print(f\"Regla de Simpson 1/3 (n=2): {newton_cotes_closed(func_to_integrate, a, b, 2)}\")\n",
        "print(f\"Regla de Simpson 3/8 (n=3): {newton_cotes_closed(func_to_integrate, a, b, 3)}\")\n",
        "print(f\"Fórmula Cerrada n=4: {newton_cotes_closed(func_to_integrate, a, b, 4)}\")\n",
        "\n",
        "print(\"\\n Fórmulas Abiertas de Newton-Cotes\")\n",
        "print(f\"Fórmula Abierta n=0 (Punto Medio): {newton_cotes_open(func_to_integrate, a, b, 0)}\")\n",
        "print(f\"Fórmula Abierta n=1: {newton_cotes_open(func_to_integrate, a, b, 1)}\")\n",
        "print(f\"Fórmula Abierta n=2: {newton_cotes_open(func_to_integrate, a, b, 2)}\")\n",
        "print(f\"Fórmula Abierta n=3: {newton_cotes_open(func_to_integrate, a, b, 3)}\")\n",
        "\n",
        "# Para comparar con la integral exacta\n",
        "exact_integral = integrate(func_to_integrate, (x, a, b))\n",
        "print(f\"\\nIntegral exacta: {exact_integral}\")"
      ]
    }
  ]
}