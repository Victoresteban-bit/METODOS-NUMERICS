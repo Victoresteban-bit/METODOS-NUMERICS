{
  "nbformat": 4,
  "nbformat_minor": 0,
  "metadata": {
    "colab": {
      "provenance": [],
      "authorship_tag": "ABX9TyN6YDw0k2g1P4/9d6DMV0dE",
      "include_colab_link": true
    },
    "kernelspec": {
      "name": "python3",
      "display_name": "Python 3"
    },
    "language_info": {
      "name": "python"
    }
  },
  "cells": [
    {
      "cell_type": "markdown",
      "metadata": {
        "id": "view-in-github",
        "colab_type": "text"
      },
      "source": [
        "<a href=\"https://colab.research.google.com/github/Victoresteban-bit/METODOS-NUMERICS/blob/main/Metodo_Newton.ipynb\" target=\"_parent\"><img src=\"https://colab.research.google.com/assets/colab-badge.svg\" alt=\"Open In Colab\"/></a>"
      ]
    },
    {
      "cell_type": "code",
      "execution_count": 1,
      "metadata": {
        "colab": {
          "base_uri": "https://localhost:8080/"
        },
        "id": "I5V6Hf6wbeGk",
        "outputId": "5237f074-1368-4f51-d9ea-a3f99eb06bcf"
      },
      "outputs": [
        {
          "output_type": "stream",
          "name": "stdout",
          "text": [
            "=== MÉTODO DE NEWTON ===\n",
            "# iter\t\t p_n \t\t f(p_n) \t error\n",
            "0\t\t 1.500000\t 0.875000\t 0.152174\n",
            "1\t\t 1.347826\t 0.100682\t 0.022626\n",
            "2\t\t 1.325200\t 0.002058\t 0.000482\n",
            "\n",
            "Solución aproximada: 1.324718 con un error de 0.000482\n"
          ]
        }
      ],
      "source": [
        "import numpy as np\n",
        "\n",
        "# Definir la función f(x) = x^3 - x - 1\n",
        "def f(x):\n",
        "    return x**3 - x - 1\n",
        "\n",
        "# Definir la derivada de f(x), que se usa en el método de Newton\n",
        "def df(x):\n",
        "    return 3*x**2 - 1\n",
        "\n",
        "# Implementación del método de Newton\n",
        "def metodo_newton(p0, tol, nmax):\n",
        "    error = 100  # Inicializamos el error en un valor grande\n",
        "    niter = 0    # Contador de iteraciones\n",
        "\n",
        "    print(\"=== MÉTODO DE NEWTON ===\")\n",
        "    print(\"# iter\\t\\t p_n \\t\\t f(p_n) \\t error\")\n",
        "\n",
        "    while error > tol and niter < nmax:\n",
        "        # Aplicar la fórmula del método de Newton: p1 = p0 - f(p0)/df(p0)\n",
        "        p1 = p0 - f(p0) / df(p0)\n",
        "        error = abs(p1 - p0)  # Calcular el error\n",
        "\n",
        "        # Imprimir la iteración actual, el valor de p_n, f(p_n) y el error\n",
        "        print(f\"{niter}\\t\\t {p0:.6f}\\t {f(p0):.6f}\\t {error:.6f}\")\n",
        "\n",
        "        p0 = p1  # Actualizar el valor de p0\n",
        "        niter += 1  # Incrementar el contador de iteraciones\n",
        "\n",
        "    # Verificar si el método alcanzó la solución dentro de la tolerancia\n",
        "    if error <= tol:\n",
        "        print(f\"\\nSolución aproximada: {p1:.6f} con un error de {error:.6f}\")\n",
        "    else:\n",
        "        print(\"\\nNo se alcanzó la tolerancia en el número máximo de iteraciones.\")\n",
        "\n",
        "# Parámetros del método de Newton\n",
        "p0 = 1.5  # Valor inicial\n",
        "tol = 0.01  # Tolerancia 10^-2\n",
        "nmax = 100  # Número máximo de iteraciones\n",
        "\n",
        "# Llamar al método de Newton\n",
        "metodo_newton(p0, tol, nmax)"
      ]
    }
  ]
}