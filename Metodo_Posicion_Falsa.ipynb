{
  "nbformat": 4,
  "nbformat_minor": 0,
  "metadata": {
    "colab": {
      "provenance": [],
      "authorship_tag": "ABX9TyOKrKvluy1fEVfKoSqxI6tL",
      "include_colab_link": true
    },
    "kernelspec": {
      "name": "python3",
      "display_name": "Python 3"
    },
    "language_info": {
      "name": "python"
    }
  },
  "cells": [
    {
      "cell_type": "markdown",
      "metadata": {
        "id": "view-in-github",
        "colab_type": "text"
      },
      "source": [
        "<a href=\"https://colab.research.google.com/github/Victoresteban-bit/METODOS-NUMERICS/blob/main/Metodo_Posicion_Falsa.ipynb\" target=\"_parent\"><img src=\"https://colab.research.google.com/assets/colab-badge.svg\" alt=\"Open In Colab\"/></a>"
      ]
    },
    {
      "cell_type": "code",
      "source": [
        "def regula_falsi(f, p0, p1, TOL, N0):\n",
        "\n",
        "  i = 2\n",
        "  q0 = f(p0)\n",
        "  q1 = f(p1)\n",
        "\n",
        "  while i <= N0:\n",
        "    p = p1 - q1 * (p1 - p0) / (q1 - q0)  # Calcule pi\n",
        "\n",
        "    if abs(p - p1) < TOL:\n",
        "      return p  # El procedimiento fue exitoso\n",
        "\n",
        "    i += 1\n",
        "    q = f(p)\n",
        "\n",
        "    if q * q1 < 0:\n",
        "      p0 = p1\n",
        "      q0 = q1\n",
        "\n",
        "    p1 = p\n",
        "    q1 = q\n",
        "\n",
        "  return \"El método falló después de N0 iteraciones, N0 =\", N0  # El procedimiento no fue exitoso\n",
        "\n",
        "\n",
        "# Ejemplo de uso:\n",
        "def f(x):\n",
        "  return x**3 - x - 1\n",
        "\n",
        "p0 = 1\n",
        "p1 = 2\n",
        "TOL = 1e-6\n",
        "N0 = 100\n",
        "\n",
        "resultado = regula_falsi(f, p0, p1, TOL, N0)\n",
        "resultado\n"
      ],
      "metadata": {
        "id": "pz5OhPUbfh_C",
        "colab": {
          "base_uri": "https://localhost:8080/"
        },
        "outputId": "23e1c2bb-c2ac-47b9-bbf1-8885dd2f619e"
      },
      "execution_count": 6,
      "outputs": [
        {
          "output_type": "execute_result",
          "data": {
            "text/plain": [
              "1.3247174987790529"
            ]
          },
          "metadata": {},
          "execution_count": 6
        }
      ]
    }
  ]
}