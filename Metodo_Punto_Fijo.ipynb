{
  "nbformat": 4,
  "nbformat_minor": 0,
  "metadata": {
    "colab": {
      "provenance": [],
      "authorship_tag": "ABX9TyM7GCfdKDgTzjCrx798rKYl",
      "include_colab_link": true
    },
    "kernelspec": {
      "name": "python3",
      "display_name": "Python 3"
    },
    "language_info": {
      "name": "python"
    }
  },
  "cells": [
    {
      "cell_type": "markdown",
      "metadata": {
        "id": "view-in-github",
        "colab_type": "text"
      },
      "source": [
        "<a href=\"https://colab.research.google.com/github/Victoresteban-bit/METODOS-NUMERICS/blob/main/Metodo_Punto_Fijo.ipynb\" target=\"_parent\"><img src=\"https://colab.research.google.com/assets/colab-badge.svg\" alt=\"Open In Colab\"/></a>"
      ]
    },
    {
      "cell_type": "code",
      "source": [
        "from math import *\n",
        "import numpy as np\n",
        "import matplotlib.pyplot as plt\n",
        "\n",
        "# Definimos la función g(x) = cubo de (x + 1)\n",
        "def g(x):\n",
        "    return (x + 1)**(1/3)\n",
        "\n",
        "# Parámetros del método de punto fijo\n",
        "p0 = 1  # Valor inicial p_0=1\n",
        "tol = 0.01  # Tolerancia 10^-2\n",
        "nmax = 100  # Número máximo de iteraciones\n",
        "error_punto_fijo = 100\n",
        "niter_punto_fijo = 0\n",
        "\n",
        "print(\"\\n=== MÉTODO DE ITERACIÓN DE PUNTO FIJO ===\")\n",
        "print(\"# iter\\t\\t p_n \\t\\t g(p_n) \\t\\t error\")\n",
        "\n",
        "# Ciclo iterativo para el método de Iteración de Punto Fijo\n",
        "while error_punto_fijo > tol and niter_punto_fijo < nmax:\n",
        "    p1 = g(p0)\n",
        "    error_punto_fijo = abs(p1 - p0)\n",
        "\n",
        "    # Imprimir la iteración actual y el error\n",
        "    print(\"{0} \\t\\t {1:6.6f} \\t {2:6.6f} \\t {3:6.6f}\".format(niter_punto_fijo, p0, p1, error_punto_fijo))\n",
        "\n",
        "    p0 = p1  # Actualizar el valor de p0\n",
        "    niter_punto_fijo += 1\n",
        "\n",
        "# Verificar si la solución es aceptable dentro de la tolerancia\n",
        "if error_punto_fijo <= tol:\n",
        "    print(f\"\\nSolución aproximada por punto fijo: {p1} con un error de {error_punto_fijo}\")\n",
        "else:\n",
        "    print(\"\\nNo se alcanzó la tolerancia en el número máximo de iteraciones.\")"
      ],
      "metadata": {
        "id": "pz5OhPUbfh_C",
        "colab": {
          "base_uri": "https://localhost:8080/"
        },
        "outputId": "9d476ae8-e644-47d8-a01f-aa7eb88e778d"
      },
      "execution_count": 3,
      "outputs": [
        {
          "output_type": "stream",
          "name": "stdout",
          "text": [
            "\n",
            "=== MÉTODO DE ITERACIÓN DE PUNTO FIJO ===\n",
            "# iter\t\t p_n \t\t g(p_n) \t\t error\n",
            "0 \t\t 1.000000 \t 1.259921 \t 0.259921\n",
            "1 \t\t 1.259921 \t 1.312294 \t 0.052373\n",
            "2 \t\t 1.312294 \t 1.322354 \t 0.010060\n",
            "3 \t\t 1.322354 \t 1.324269 \t 0.001915\n",
            "\n",
            "Solución aproximada por punto fijo: 1.324268744551578 con un error de 0.0019149254127530657\n"
          ]
        }
      ]
    }
  ]
}