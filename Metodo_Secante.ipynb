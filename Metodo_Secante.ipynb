{
  "nbformat": 4,
  "nbformat_minor": 0,
  "metadata": {
    "colab": {
      "provenance": [],
      "authorship_tag": "ABX9TyNsWYsv/UBm/6a+vm4NBB8g",
      "include_colab_link": true
    },
    "kernelspec": {
      "name": "python3",
      "display_name": "Python 3"
    },
    "language_info": {
      "name": "python"
    }
  },
  "cells": [
    {
      "cell_type": "markdown",
      "metadata": {
        "id": "view-in-github",
        "colab_type": "text"
      },
      "source": [
        "<a href=\"https://colab.research.google.com/github/Victoresteban-bit/METODOS-NUMERICS/blob/main/Metodo_Secante.ipynb\" target=\"_parent\"><img src=\"https://colab.research.google.com/assets/colab-badge.svg\" alt=\"Open In Colab\"/></a>"
      ]
    },
    {
      "cell_type": "markdown",
      "source": [
        "#Metodo de la Secante\n",
        "\n",
        "El método de Newton es una técnica en extremo poderosa, pero tiene una debilidad importante: la necesidad de conocer el valor de la derivada de $f$ en cada aproximación. Con frecuencia, $f'(x)$ es mucho más difícil y necesita más operaciones aritméticas para calcular $f(x)$.\n",
        "\n",
        "Para evitar el problema de la evaluación de la derivada en el método de Newton, presentamos una ligera variación. Por definición,\n",
        "\n",
        "$$\n",
        "    f'(p_{n-1}) = \\lim_{x \\to p_{n-1}} \\frac{f(x) - f(p_{n-1})}{x - p_{n-1}}.\n",
        "$$\n",
        "\n",
        "Si $p_{n-2}$ está cerca de $p_{n-1}$, entonces\n",
        "\n",
        "$$\n",
        "    f'(p_{n-1}) \\approx \\frac{f(p_{n-2}) - f(p_{n-1})}{p_{n-2} - p_{n-1}} = \\frac{f(p_{n-1}) - f(p_{n-2})}{p_{n-1} - p_{n-2}}.\n",
        "$$\n",
        "\n",
        "Usando esta aproximación para $f'(p_{n-1})$ en la fórmula de Newton obtenemos\n",
        "\n",
        "$$\n",
        "    p_n = p_{n-1} - \\frac{f(p_{n-1})(p_{n-1} - p_{n-2})}{f(p_{n-1}) - f(p_{n-2})}.\n",
        "$$\n",
        "\n"
      ],
      "metadata": {
        "id": "EFvDBlChuYXe"
      }
    },
    {
      "cell_type": "code",
      "source": [
        "\n",
        "\n",
        "def secant_method(f, p0, p1, TOL, N0):\n",
        "  \"\"\"\n",
        "  Implementación del método de la secante para aproximar raíces de una función.\n",
        "\n",
        "  Argumentos:\n",
        "    f: La función para la cual se desea encontrar la raíz.\n",
        "    p0: Aproximación inicial p0.\n",
        "    p1: Aproximación inicial p1.\n",
        "    TOL: Tolerancia para la convergencia.\n",
        "    N0: Número máximo de iteraciones.\n",
        "\n",
        "  Regresos:\n",
        "    Una solución aproximada p o un mensaje de falla.\n",
        "  \"\"\"\n",
        "\n",
        "  i = 2\n",
        "  q0 = f(p0)\n",
        "  q1 = f(p1)\n",
        "\n",
        "  while i <= N0:\n",
        "    p = p1 - q1 * (p1 - p0) / (q1 - q0)  # Calcular pi\n",
        "    if abs(p - p1) < TOL:\n",
        "      return p  # El procedimiento fue exitoso\n",
        "    i = i + 1\n",
        "    p0 = p1  # Actualizar p0, q0, p1, q1\n",
        "    q0 = q1\n",
        "    p1 = p\n",
        "    q1 = f(p)\n",
        "\n",
        "  return \"El método falló después de \" + str(N0) + \" iteraciones\"  # El procedimiento no fue exitoso\n",
        "\n",
        "\n",
        "# Ejemplo de uso:\n",
        "def f(x):\n",
        "  return x**3 - x - 1\n",
        "\n",
        "p0 = 1\n",
        "p1 = 2\n",
        "TOL = 1e-6\n",
        "N0 = 100\n",
        "\n",
        "resultado = secant_method(f, p0, p1, TOL, N0)\n",
        "print(\"Resultado:\", resultado)\n",
        "\n",
        "\n",
        "Resultado: 1.3247179572446703"
      ],
      "metadata": {
        "id": "pz5OhPUbfh_C",
        "colab": {
          "base_uri": "https://localhost:8080/"
        },
        "outputId": "393565f1-137c-4ac9-fa2f-3effa4563686"
      },
      "execution_count": 9,
      "outputs": [
        {
          "output_type": "stream",
          "name": "stdout",
          "text": [
            "Overwriting metodo_secante.tex\n"
          ]
        }
      ]
    }
  ]
}