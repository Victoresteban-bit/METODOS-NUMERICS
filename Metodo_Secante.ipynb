{
  "nbformat": 4,
  "nbformat_minor": 0,
  "metadata": {
    "colab": {
      "provenance": [],
      "authorship_tag": "ABX9TyOBQjsriHO0k8L5/NvdJTiO",
      "include_colab_link": true
    },
    "kernelspec": {
      "name": "python3",
      "display_name": "Python 3"
    },
    "language_info": {
      "name": "python"
    }
  },
  "cells": [
    {
      "cell_type": "markdown",
      "metadata": {
        "id": "view-in-github",
        "colab_type": "text"
      },
      "source": [
        "<a href=\"https://colab.research.google.com/github/Victoresteban-bit/METODOS-NUMERICS/blob/main/Metodo_Secante.ipynb\" target=\"_parent\"><img src=\"https://colab.research.google.com/assets/colab-badge.svg\" alt=\"Open In Colab\"/></a>"
      ]
    },
    {
      "cell_type": "code",
      "source": [
        "def secant_method(f, p0, p1, TOL, N0):\n",
        "  \"\"\"\n",
        "  Implementación del método de la secante para aproximar raíces de una función.\n",
        "\n",
        "  Argumentos:\n",
        "    f: La función para la cual se desea encontrar la raíz.\n",
        "    p0: Aproximación inicial p0.\n",
        "    p1: Aproximación inicial p1.\n",
        "    TOL: Tolerancia para la convergencia.\n",
        "    N0: Número máximo de iteraciones.\n",
        "\n",
        "  Regresos:\n",
        "    Una solución aproximada p o un mensaje de falla.\n",
        "  \"\"\"\n",
        "\n",
        "  i = 2\n",
        "  q0 = f(p0)\n",
        "  q1 = f(p1)\n",
        "\n",
        "  while i <= N0:\n",
        "    p = p1 - q1 * (p1 - p0) / (q1 - q0)  # Calcular pi\n",
        "    if abs(p - p1) < TOL:\n",
        "      return p  # El procedimiento fue exitoso\n",
        "    i = i + 1\n",
        "    p0 = p1  # Actualizar p0, q0, p1, q1\n",
        "    q0 = q1\n",
        "    p1 = p\n",
        "    q1 = f(p)\n",
        "\n",
        "  return \"El método falló después de \" + str(N0) + \" iteraciones\"  # El procedimiento no fue exitoso\n",
        "\n",
        "\n",
        "# Ejemplo de uso:\n",
        "def f(x):\n",
        "  return x**3 - x - 1\n",
        "\n",
        "p0 = 1\n",
        "p1 = 2\n",
        "TOL = 1e-6\n",
        "N0 = 100\n",
        "\n",
        "resultado = secant_method(f, p0, p1, TOL, N0)\n",
        "print(\"Resultado:\", resultado)\n"
      ],
      "metadata": {
        "id": "pz5OhPUbfh_C",
        "colab": {
          "base_uri": "https://localhost:8080/"
        },
        "outputId": "72463cc8-fe8b-443e-877c-b9cea6b97106"
      },
      "execution_count": 4,
      "outputs": [
        {
          "output_type": "stream",
          "name": "stdout",
          "text": [
            "Resultado: 1.3247179572446703\n"
          ]
        }
      ]
    }
  ]
}