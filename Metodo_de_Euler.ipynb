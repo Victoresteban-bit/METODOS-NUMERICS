{
  "nbformat": 4,
  "nbformat_minor": 0,
  "metadata": {
    "colab": {
      "provenance": [],
      "authorship_tag": "ABX9TyNlF5ab6ISLtxOgKT6PGm5L",
      "include_colab_link": true
    },
    "kernelspec": {
      "name": "python3",
      "display_name": "Python 3"
    },
    "language_info": {
      "name": "python"
    }
  },
  "cells": [
    {
      "cell_type": "markdown",
      "metadata": {
        "id": "view-in-github",
        "colab_type": "text"
      },
      "source": [
        "<a href=\"https://colab.research.google.com/github/Victoresteban-bit/METODOS-NUMERICS/blob/main/Metodo_de_Euler.ipynb\" target=\"_parent\"><img src=\"https://colab.research.google.com/assets/colab-badge.svg\" alt=\"Open In Colab\"/></a>"
      ]
    },
    {
      "cell_type": "code",
      "execution_count": 2,
      "metadata": {
        "colab": {
          "base_uri": "https://localhost:8080/"
        },
        "id": "HW-dz3UPFOcT",
        "outputId": "2e130e43-c00b-4d1b-f01f-2f643652f450"
      },
      "outputs": [
        {
          "output_type": "stream",
          "name": "stdout",
          "text": [
            "  t  Aproximación w  Solución Exacta y(t)  Error Absoluto\n",
            "0.0        0.500000              0.500000        0.000000\n",
            "0.2        0.800000              0.829299        0.029299\n",
            "0.4        1.152000              1.214088        0.062088\n",
            "0.6        1.550400              1.648941        0.098541\n",
            "0.8        1.988480              2.127230        0.138750\n",
            "1.0        2.458176              2.640859        0.182683\n",
            "1.2        2.949811              3.179942        0.230130\n",
            "1.4        3.451773              3.732400        0.280627\n",
            "1.6        3.950128              4.283484        0.333356\n",
            "1.8        4.428154              4.815176        0.387023\n",
            "2.0        4.865785              5.305472        0.439687\n"
          ]
        }
      ],
      "source": [
        "import pandas as pd\n",
        "\n",
        "def euler_method(f, a, b, N, alpha, exact_solution=None):\n",
        "\n",
        "  h = (b - a) / N\n",
        "  t = a\n",
        "  w = alpha\n",
        "\n",
        "  results = []\n",
        "  row_data = {'t': t, 'Aproximación w': w}\n",
        "  if exact_solution:\n",
        "      row_data['Solución Exacta y(t)'] = exact_solution(t)\n",
        "      row_data['Error Absoluto'] = abs(w - exact_solution(t))\n",
        "  results.append(row_data)\n",
        "\n",
        "  for i in range(1, N + 1):\n",
        "    w = w + h * f(t, w)\n",
        "    t = a + i * h\n",
        "    row_data = {'t': t, 'Aproximación w': w}\n",
        "    if exact_solution:\n",
        "        row_data['Solución Exacta y(t)'] = exact_solution(t)\n",
        "        row_data['Error Absoluto'] = abs(w - exact_solution(t))\n",
        "    results.append(row_data)\n",
        "\n",
        "  return pd.DataFrame(results)\n",
        "\n",
        "# Ejemplo de uso:\n",
        "# Resolver y' = y - t^2 + 1, 0 <= t <= 2, y(0) = 0.5 con N = 10\n",
        "# La solución exacta es y(t) = (t+1)^2 - 0.5 * e^t\n",
        "\n",
        "# Define la función f(t, y)\n",
        "def f(t, y):\n",
        "  return y - t**2 + 1\n",
        "\n",
        "# Define la solución exacta (opcional para calcular el error)\n",
        "def exact_solution(t):\n",
        "  return (t + 1)**2 - 0.5 * math.exp(t)\n",
        "\n",
        "import math # Importa math para la función exponencial\n",
        "\n",
        "# Define los parámetros\n",
        "a = 0\n",
        "b = 2\n",
        "N = 10\n",
        "alpha = 0.5\n",
        "\n",
        "# Ejecuta el método de Euler\n",
        "df_results = euler_method(f, a, b, N, alpha, exact_solution=exact_solution)\n",
        "\n",
        "# Imprime la tabla\n",
        "print(df_results.to_string(index=False))"
      ]
    }
  ]
}