{
  "nbformat": 4,
  "nbformat_minor": 0,
  "metadata": {
    "colab": {
      "provenance": [],
      "authorship_tag": "ABX9TyNbbWucQME/5LxPbTwWRq/v",
      "include_colab_link": true
    },
    "kernelspec": {
      "name": "python3",
      "display_name": "Python 3"
    },
    "language_info": {
      "name": "python"
    }
  },
  "cells": [
    {
      "cell_type": "markdown",
      "metadata": {
        "id": "view-in-github",
        "colab_type": "text"
      },
      "source": [
        "<a href=\"https://colab.research.google.com/github/Victoresteban-bit/METODOS-NUMERICS/blob/main/M%C3%A9todo_Neville.ipynb\" target=\"_parent\"><img src=\"https://colab.research.google.com/assets/colab-badge.svg\" alt=\"Open In Colab\"/></a>"
      ]
    },
    {
      "cell_type": "markdown",
      "source": [
        "# Método de Neville"
      ],
      "metadata": {
        "id": "yb8YlHmR7XCm"
      }
    },
    {
      "cell_type": "code",
      "execution_count": 26,
      "metadata": {
        "colab": {
          "base_uri": "https://localhost:8080/"
        },
        "id": "t-7_CrKwrr20",
        "outputId": "010320bb-470e-4b10-cd09-a42c891473a7"
      },
      "outputs": [
        {
          "output_type": "stream",
          "name": "stdout",
          "text": [
            "Neville Table (Q):\n",
            "[0.7651977, 0, 0, 0, 0]\n",
            "[0.620086, -0.20221363333333314, 0, 0, 0]\n",
            "[0.4554022, -0.31312220000000035, -0.5719088555555571, 0, 0]\n",
            "[0.2818186, -0.35465460000000043, -0.43079733333333387, -0.25832769506172765, 0]\n",
            "[0.1103623, -0.34685449999999945, -0.33645436666666484, -0.25259395185184796, -0.24877145637859482]\n",
            "\n",
            "P(x) = -0.24877145637859482\n",
            "\n",
            "Polinomio P(x): 0.7651977 + -0.20221363333333314*(x - 1.0) + -0.5719088555555571*(x - 1.0)*(x - 1.3) + -0.25832769506172765*(x - 1.0)*(x - 1.3)*(x - 1.6) + -0.24877145637859482*(x - 1.0)*(x - 1.3)*(x - 1.6)*(x - 1.9)\n"
          ]
        }
      ],
      "source": [
        "def neville_method(x_values, f_x_values, x):\n",
        "    n = len(x_values)\n",
        "    Q = [[0 for _ in range(n)] for _ in range(n)]\n",
        "\n",
        "    # Inicia la primer columna de Q con los valores dados de f(x)\n",
        "    for i in range(n):\n",
        "        Q[i][0] = f_x_values[i]\n",
        "\n",
        "    # Recorre la tabla para calcular las entradas\n",
        "    for i in range(1,n):\n",
        "        for j in range(1,i+1):\n",
        "            Q[i][j] = ((x - x_values[i - j]) * Q[i][j - 1] - (x - x_values[i]) * Q[i - 1][j-1]) / (x_values[i] - x_values[i - j])\n",
        "\n",
        "    # La entrada inferior derecha de Q es el valor interpolado P(x)\n",
        "    p_x = Q[n-1][n-1]\n",
        "\n",
        "    #Construir la representación del polinomio\n",
        "    polynomial = \"\"\n",
        "    for i in range(n):\n",
        "        term = str(Q[i][i])\n",
        "        for j in range(i):\n",
        "             term += \"*(x - \" + str(x_values[j]) + \")\"\n",
        "        if i>0:\n",
        "            polynomial += \" + \" + term\n",
        "        else:\n",
        "            polynomial = term\n",
        "\n",
        "    return Q, p_x, polynomial\n",
        "\n",
        "# Ejemplo de uso\n",
        "x_values = [1.0, 1.3 , 1.6, 1.9, 2.2]\n",
        "f_x_values = [0.7651977, 0.6200860, 0.4554022, 0.2818186, 0.1103623]\n",
        "x = 3\n",
        "\n",
        "Q, p_x, polynomial = neville_method(x_values, f_x_values, x)\n",
        "\n",
        "# Imprime la tabla Neville Q\n",
        "print(\"Neville Table (Q):\")\n",
        "for row in Q:\n",
        "    print(row)\n",
        "\n",
        "# Imprime el valor interpolado de P(x)\n",
        "print(\"\\nP(x) =\", p_x)\n",
        "\n",
        "# Imprime el polinomio P(x)\n",
        "print(\"\\nPolinomio P(x):\", polynomial)"
      ]
    }
  ]
}