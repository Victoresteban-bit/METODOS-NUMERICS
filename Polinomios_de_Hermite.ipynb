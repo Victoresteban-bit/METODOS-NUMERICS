{
  "nbformat": 4,
  "nbformat_minor": 0,
  "metadata": {
    "colab": {
      "provenance": [],
      "authorship_tag": "ABX9TyO4HzOviMtbgtIkUoeUx6+N",
      "include_colab_link": true
    },
    "kernelspec": {
      "name": "python3",
      "display_name": "Python 3"
    },
    "language_info": {
      "name": "python"
    }
  },
  "cells": [
    {
      "cell_type": "markdown",
      "metadata": {
        "id": "view-in-github",
        "colab_type": "text"
      },
      "source": [
        "<a href=\"https://colab.research.google.com/github/Victoresteban-bit/METODOS-NUMERICS/blob/main/Polinomios_de_Hermite.ipynb\" target=\"_parent\"><img src=\"https://colab.research.google.com/assets/colab-badge.svg\" alt=\"Open In Colab\"/></a>"
      ]
    },
    {
      "cell_type": "markdown",
      "source": [
        "# Polinomios de Hermite\n",
        "\n",
        "\\\n",
        "\\begin{array}{c|c|c|c}\n",
        "z & f(z) & \\text{Primeras diferencias} & \\text{Segundas diferencias} \\\\\n",
        " &       & \\text{divididas} & \\text{divididas} \\\\\n",
        "\\hline\n",
        "z_0 = x_0 & f[z_0] = f(x_0) & f[z_0,z_1] = f'(x_0) & \\\\\n",
        "z_1 = x_0 & f[z_1] = f(x_0) & f[z_1,z_2] = \\dfrac{f[z_2]-f[z_1]}{z_2 - z_1} & f[z_0,z_1,z_2] = \\dfrac{f[z_1,z_2]-f[z_0,z_1]}{z_2 - z_0} \\\\\n",
        "z_2 = x_1 & f[z_2] = f(x_1) & f[z_2,z_3] = f'(x_1) & f[z_1,z_2,z_3] = \\dfrac{f[z_2,z_3]-f[z_1,z_2]}{z_3 - z_1} \\\\\n",
        "z_3 = x_1 & f[z_3] = f(x_1) & f[z_3,z_4] = \\dfrac{f[z_4]-f[z_3]}{z_4 - z_3} & f[z_2,z_3,z_4] = \\dfrac{f[z_3,z_4]-f[z_2,z_3]}{z_4 - z_2} \\\\\n",
        "z_4 = x_2 & f[z_4] = f(x_2) & f[z_4,z_5] = f'(x_2) & f[z_3,z_4,z_5] = \\dfrac{f[z_4,z_5]-f[z_3,z_4]}{z_5 - z_3} \\\\\n",
        "z_5 = x_2 & f[z_5] = f(x_2) & & \\\\\n",
        "\\end{array}"
      ],
      "metadata": {
        "id": "7VovSciC1ZFd"
      }
    },
    {
      "cell_type": "code",
      "source": [
        "def hermite_interpolation(x_values, f_values, f_prime_values):\n",
        "    n = len(x_values) - 1\n",
        "\n",
        "    if n < 0:\n",
        "        raise ValueError(\"Los valores x no pueden estar vacíos\")\n",
        "\n",
        "    if len(f_values) != n + 1 or len(f_prime_values) != n + 1:\n",
        "        raise ValueError(\n",
        "            \"Las longitudes de los valores f y los valores primos f deben coincidir con la longitud de los valores x.\"\n",
        "        )\n",
        "\n",
        "    z_values = [0] * (2 * n + 2)\n",
        "    Q = [[0] * (2 * n + 2) for _ in range(2 * n + 2)]\n",
        "\n",
        "    for i in range(n + 1):\n",
        "        z_values[2 * i] = x_values[i]\n",
        "        z_values[2 * i + 1] = x_values[i]\n",
        "        Q[2 * i][0] = f_values[i]\n",
        "        Q[2 * i + 1][0] = f_values[i]\n",
        "        Q[2 * i + 1][1] = f_prime_values[i]\n",
        "\n",
        "    for i in range(n + 1):\n",
        "        if i == 0:\n",
        "            Q[2 * i][1] = (\n",
        "                (Q[2 * i][0] - Q[2 * i - 1][0]) / (z_values[2 * i] - z_values[2 * i - 1])\n",
        "                if 2 * i > 0\n",
        "                else 0\n",
        "            )\n",
        "        else:\n",
        "            Q[2 * i][1] = (Q[2 * i][0] - Q[2 * i - 2][0]) / (\n",
        "                z_values[2 * i] - z_values[2 * i - 2]\n",
        "            )\n",
        "\n",
        "    for i in range(2, 2 * n + 2):\n",
        "        for j in range(2, i + 1):\n",
        "            Q[i][j] = (Q[i][j - 1] - Q[i - 1][j - 1]) / (z_values[i] - z_values[i - j])\n",
        "\n",
        "    # Imprimir la tabla de diferencias\n",
        "    print(\"Tabla de Diferencias Divididas:\")\n",
        "    for row in Q:\n",
        "        print(row)\n",
        "\n",
        "    return [Q[i][i] for i in range(2 * n + 2)]\n",
        "\n",
        "def polynomial_to_string(coefficients, x_symbol='x'):\n",
        "    \"\"\"Converts a list of coefficients into a polynomial string.\"\"\"\n",
        "    terms = []\n",
        "    for i, coeff in enumerate(coefficients):\n",
        "        if coeff == 0:\n",
        "            continue\n",
        "        if i == 0:\n",
        "            term = str(coeff)\n",
        "        elif i == 1:\n",
        "            term = f\"{coeff}{x_symbol}\" if coeff != 1 else x_symbol\n",
        "        else:\n",
        "            term = f\"{coeff}{x_symbol}^{i}\" if coeff != 1 else f\"{x_symbol}^{i}\"\n",
        "        terms.append(term)\n",
        "\n",
        "    polynomial_str = \" + \".join(terms)\n",
        "    polynomial_str = polynomial_str.replace(\"+ -\", \"- \")\n",
        "    return polynomial_str\n",
        "\n",
        "# Pedir el input a usar\n",
        "num_points = int(input(\"Introduzca el número de puntos de datos: \"))\n",
        "x_values = []\n",
        "f_values = []\n",
        "f_prime_values = []\n",
        "\n",
        "for i in range(num_points):\n",
        "    x = float(input(f\"Introduzca la coordenada x para el punto {i + 1}: \"))\n",
        "    f = float(input(f\"Introduzca el valor de la función en x = {x}: \"))\n",
        "    f_prime = float(input(f\"Introduzca el valor de la derivada en x = {x}: \"))\n",
        "\n",
        "    x_values.append(x)\n",
        "    f_values.append(f)\n",
        "    f_prime_values.append(f_prime)\n",
        "\n",
        "# Calcula y muestra los coeficientes\n",
        "coefficients = hermite_interpolation(x_values, f_values, f_prime_values)\n",
        "\n",
        "# Convierte los coeficientes a una cadena de polinomios\n",
        "polynomial_str = polynomial_to_string(coefficients)\n",
        "\n",
        "# Imprime el polinomio\n",
        "print(\"Polinomio de interpolación de Hermite:\", polynomial_str)"
      ],
      "metadata": {
        "colab": {
          "base_uri": "https://localhost:8080/"
        },
        "id": "eJT8YxlD--hh",
        "outputId": "40fe0931-3fc3-469a-d72f-6382baf099b9"
      },
      "execution_count": 10,
      "outputs": [
        {
          "output_type": "stream",
          "name": "stdout",
          "text": [
            "Introduzca el número de puntos de datos: 3\n",
            "Introduzca la coordenada x para el punto 1: 1.3\n",
            "Introduzca el valor de la función en x = 1.3: 0.6200860\n",
            "Introduzca el valor de la derivada en x = 1.3: -0.5220232\n",
            "Introduzca la coordenada x para el punto 2: 1.6\n",
            "Introduzca el valor de la función en x = 1.6: 0.4554022\n",
            "Introduzca el valor de la derivada en x = 1.6: -0.5698959\n",
            "Introduzca la coordenada x para el punto 3: 1.9\n",
            "Introduzca el valor de la función en x = 1.9: 0.2818186\n",
            "Introduzca el valor de la derivada en x = 1.9: -0.5811571\n",
            "Tabla de Diferencias Divididas:\n",
            "[0.620086, 0, 0, 0, 0, 0]\n",
            "[0.620086, -0.5220232, 0, 0, 0, 0]\n",
            "[0.4554022, -0.548946, -0.08974266666666673, 0, 0, 0]\n",
            "[0.4554022, -0.5698959, -0.06983299999999988, 0.06636555555555616, 0, 0]\n",
            "[0.2818186, -0.5786120000000003, -0.02905366666666781, 0.06796555555555346, 0.002666666666662164, 0]\n",
            "[0.2818186, -0.5811571, -0.008483666666665451, 0.06856666666667456, 0.0010018518518685, -0.0027746913579894407]\n",
            "Polinomio de interpolación de Hermite: 0.620086 - 0.5220232x - 0.08974266666666673x^2 + 0.06636555555555616x^3 + 0.002666666666662164x^4 - 0.0027746913579894407x^5\n"
          ]
        }
      ]
    }
  ]
}