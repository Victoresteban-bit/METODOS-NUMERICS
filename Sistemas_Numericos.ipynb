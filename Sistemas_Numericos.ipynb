{
  "nbformat": 4,
  "nbformat_minor": 0,
  "metadata": {
    "colab": {
      "provenance": [],
      "authorship_tag": "ABX9TyP3JAgxuXPfEsXRQoVFRZ68",
      "include_colab_link": true
    },
    "kernelspec": {
      "name": "python3",
      "display_name": "Python 3"
    },
    "language_info": {
      "name": "python"
    }
  },
  "cells": [
    {
      "cell_type": "markdown",
      "metadata": {
        "id": "view-in-github",
        "colab_type": "text"
      },
      "source": [
        "<a href=\"https://colab.research.google.com/github/Victoresteban-bit/METODOS-NUMERICS/blob/main/Sistemas_Numericos.ipynb\" target=\"_parent\"><img src=\"https://colab.research.google.com/assets/colab-badge.svg\" alt=\"Open In Colab\"/></a>"
      ]
    },
    {
      "cell_type": "markdown",
      "source": [
        "# **Sistemas Numéricos**"
      ],
      "metadata": {
        "id": "8c6FaabjKAp7"
      }
    },
    {
      "cell_type": "code",
      "execution_count": null,
      "metadata": {
        "colab": {
          "base_uri": "https://localhost:8080/",
          "height": 228
        },
        "id": "x0dTC13vJ_jo",
        "outputId": "59f2f15e-61e5-4709-b49c-d1487bf0c928"
      },
      "outputs": [
        {
          "name": "stdout",
          "output_type": "stream",
          "text": [
            "Ingrese un número0.125\n"
          ]
        },
        {
          "output_type": "error",
          "ename": "ValueError",
          "evalue": "invalid literal for int() with base 10: '0.125'",
          "traceback": [
            "\u001b[0;31m---------------------------------------------------------------------------\u001b[0m",
            "\u001b[0;31mValueError\u001b[0m                                Traceback (most recent call last)",
            "\u001b[0;32m<ipython-input-7-abedfb66ea5e>\u001b[0m in \u001b[0;36m<cell line: 0>\u001b[0;34m()\u001b[0m\n\u001b[0;32m----> 1\u001b[0;31m \u001b[0mnumero\u001b[0m \u001b[0;34m=\u001b[0m \u001b[0mint\u001b[0m\u001b[0;34m(\u001b[0m\u001b[0minput\u001b[0m\u001b[0;34m(\u001b[0m\u001b[0;34m\"Ingrese un número\"\u001b[0m\u001b[0;34m)\u001b[0m\u001b[0;34m)\u001b[0m\u001b[0;34m\u001b[0m\u001b[0;34m\u001b[0m\u001b[0m\n\u001b[0m\u001b[1;32m      2\u001b[0m \u001b[0;34m\u001b[0m\u001b[0m\n\u001b[1;32m      3\u001b[0m \u001b[0mbinario\u001b[0m \u001b[0;34m=\u001b[0m \u001b[0mbin\u001b[0m\u001b[0;34m(\u001b[0m\u001b[0mnumero\u001b[0m\u001b[0;34m)\u001b[0m\u001b[0;34m\u001b[0m\u001b[0;34m\u001b[0m\u001b[0m\n\u001b[1;32m      4\u001b[0m \u001b[0;34m\u001b[0m\u001b[0m\n\u001b[1;32m      5\u001b[0m \u001b[0mprint\u001b[0m\u001b[0;34m(\u001b[0m\u001b[0;34mf\"El número {numero} en binario es {binario}\"\u001b[0m\u001b[0;34m)\u001b[0m\u001b[0;34m\u001b[0m\u001b[0;34m\u001b[0m\u001b[0m\n",
            "\u001b[0;31mValueError\u001b[0m: invalid literal for int() with base 10: '0.125'"
          ]
        }
      ],
      "source": [
        "numero = int(input(\"Ingrese un número\"))\n",
        "\n",
        "binario = bin(numero)\n",
        "\n",
        "print(f\"El número {numero} en binario es {binario}\")\n",
        "\n",
        "numero_octal = oct(numero)\n",
        "\n",
        "print(f\"El número {numero} en octal es {numero_octal}\")\n",
        "\n",
        "hexadecimal = hex(numero)\n",
        "\n",
        "print(f\"El número {numero} en hexadecimal es {hexadecimal}\")"
      ]
    },
    {
      "cell_type": "markdown",
      "source": [
        "Base 10:{0,1,2,3,4,5,6,7,8,9}\\\n",
        "es un sistema posicional.\\\n",
        "Ejemplo:\\\n",
        "525 = 5 X 10^2 + 2 X 10^1 + 5 X 10^0\\\n",
        "Números de tres cifras:\\\n",
        "5 2 5\\\n",
        "000,...,999 = 10^3 - 1\\\n",
        "Binario\\\n",
        "Base 2:{0,1}\\\n",
        "Números de 4 cifras\\\n",
        "\\\n",
        "0 = 0000,...,1111 = 2^3 + 2^2 + 2^1 + 2^0\\\n",
        "                  = 8 + 4 + 2 + 1\\\n",
        "                  = 15 = 2^4 - 1\\\n",
        "En computación, interesan los sistemas:\\\n",
        "-binario (2)\\\n",
        "-octal (8)\\\n",
        "-hexadecimal (16)\\\n",
        "Conversión"
      ],
      "metadata": {
        "id": "owwmHcj2KPgL"
      }
    },
    {
      "cell_type": "code",
      "source": [
        "def decimal_a_base(n, base):\n",
        "  digits = \"0123456789ABCDEF\"\n",
        "  result = \"\"\n",
        "  if n == 0:\n",
        "    return \"0\"\n",
        "  while n > 0:\n",
        "    remainder = n % base\n",
        "    result = digits[remainder] + result\n",
        "    n //= base\n",
        "  return result\n",
        "\n",
        "decimal_number = int(input(\"Ingrese un número decimal: \"))\n",
        "\n",
        "binario = decimal_a_base(decimal_number, 2)\n",
        "octal = decimal_a_base(decimal_number, 8)\n",
        "hexadecimal = decimal_a_base(decimal_number, 16)\n",
        "\n",
        "print(f\"El numero {decimal_number} en binario es {binario}\")\n",
        "print(f\"El numero {decimal_number} en octal es {octal}\")\n",
        "print(f\"El numero {decimal_number} en hexa es {hexadecimal}\")\n",
        "\n",
        "# The following block was incorrectly indented and contained unreachable code.\n",
        "# It has been removed to fix the error.\n",
        "# if decimal == 0:\n",
        "#     return \"0\"\n",
        "#     while decimal > 0:\n",
        "#       remainder = n % base\n",
        "#       result = digits[remainder] + result\n",
        "#       n //= base\n",
        "#       return result\n",
        "\n",
        "decimal_number = int(input(\"Ingrese un número decimal: \"))\n",
        "\n",
        "binario = decimal_a_base(decimal_number, 2)\n",
        "octal = decimal_a_base(decimal_number, 8)\n",
        "hexadecimal = decimal_a_base(decimal_number, 16)\n",
        "\n",
        "print(f\"El numero {decimal_number} en binario es {binario}\")\n",
        "print(f\"El numero {decimal_number} en octal es {octal}\")\n",
        "print(f\"El numero {decimal_number} en hexa es {hexadecimal}\")"
      ],
      "metadata": {
        "colab": {
          "base_uri": "https://localhost:8080/",
          "height": 426
        },
        "id": "gkSKtJXzXGcf",
        "outputId": "55ab3e43-2d49-4489-ac46-4d514e8c42a3"
      },
      "execution_count": null,
      "outputs": [
        {
          "output_type": "stream",
          "name": "stdout",
          "text": [
            "Ingrese un número decimal: 126\n",
            "El numero 126 en binario es 1111110\n",
            "El numero 126 en octal es 176\n",
            "El numero 126 en hexa es 7E\n"
          ]
        },
        {
          "output_type": "error",
          "ename": "KeyboardInterrupt",
          "evalue": "Interrupted by user",
          "traceback": [
            "\u001b[0;31m---------------------------------------------------------------------------\u001b[0m",
            "\u001b[0;31mKeyboardInterrupt\u001b[0m                         Traceback (most recent call last)",
            "\u001b[0;32m<ipython-input-10-909af0c18647>\u001b[0m in \u001b[0;36m<cell line: 0>\u001b[0;34m()\u001b[0m\n\u001b[1;32m     30\u001b[0m \u001b[0;31m#       return result\u001b[0m\u001b[0;34m\u001b[0m\u001b[0;34m\u001b[0m\u001b[0m\n\u001b[1;32m     31\u001b[0m \u001b[0;34m\u001b[0m\u001b[0m\n\u001b[0;32m---> 32\u001b[0;31m \u001b[0mdecimal_number\u001b[0m \u001b[0;34m=\u001b[0m \u001b[0mint\u001b[0m\u001b[0;34m(\u001b[0m\u001b[0minput\u001b[0m\u001b[0;34m(\u001b[0m\u001b[0;34m\"Ingrese un número decimal: \"\u001b[0m\u001b[0;34m)\u001b[0m\u001b[0;34m)\u001b[0m\u001b[0;34m\u001b[0m\u001b[0;34m\u001b[0m\u001b[0m\n\u001b[0m\u001b[1;32m     33\u001b[0m \u001b[0;34m\u001b[0m\u001b[0m\n\u001b[1;32m     34\u001b[0m \u001b[0mbinario\u001b[0m \u001b[0;34m=\u001b[0m \u001b[0mdecimal_a_base\u001b[0m\u001b[0;34m(\u001b[0m\u001b[0mdecimal_number\u001b[0m\u001b[0;34m,\u001b[0m \u001b[0;36m2\u001b[0m\u001b[0;34m)\u001b[0m\u001b[0;34m\u001b[0m\u001b[0;34m\u001b[0m\u001b[0m\n",
            "\u001b[0;32m/usr/local/lib/python3.11/dist-packages/ipykernel/kernelbase.py\u001b[0m in \u001b[0;36mraw_input\u001b[0;34m(self, prompt)\u001b[0m\n\u001b[1;32m   1175\u001b[0m                 \u001b[0;34m\"raw_input was called, but this frontend does not support input requests.\"\u001b[0m\u001b[0;34m\u001b[0m\u001b[0;34m\u001b[0m\u001b[0m\n\u001b[1;32m   1176\u001b[0m             )\n\u001b[0;32m-> 1177\u001b[0;31m         return self._input_request(\n\u001b[0m\u001b[1;32m   1178\u001b[0m             \u001b[0mstr\u001b[0m\u001b[0;34m(\u001b[0m\u001b[0mprompt\u001b[0m\u001b[0;34m)\u001b[0m\u001b[0;34m,\u001b[0m\u001b[0;34m\u001b[0m\u001b[0;34m\u001b[0m\u001b[0m\n\u001b[1;32m   1179\u001b[0m             \u001b[0mself\u001b[0m\u001b[0;34m.\u001b[0m\u001b[0m_parent_ident\u001b[0m\u001b[0;34m[\u001b[0m\u001b[0;34m\"shell\"\u001b[0m\u001b[0;34m]\u001b[0m\u001b[0;34m,\u001b[0m\u001b[0;34m\u001b[0m\u001b[0;34m\u001b[0m\u001b[0m\n",
            "\u001b[0;32m/usr/local/lib/python3.11/dist-packages/ipykernel/kernelbase.py\u001b[0m in \u001b[0;36m_input_request\u001b[0;34m(self, prompt, ident, parent, password)\u001b[0m\n\u001b[1;32m   1217\u001b[0m             \u001b[0;32mexcept\u001b[0m \u001b[0mKeyboardInterrupt\u001b[0m\u001b[0;34m:\u001b[0m\u001b[0;34m\u001b[0m\u001b[0;34m\u001b[0m\u001b[0m\n\u001b[1;32m   1218\u001b[0m                 \u001b[0;31m# re-raise KeyboardInterrupt, to truncate traceback\u001b[0m\u001b[0;34m\u001b[0m\u001b[0;34m\u001b[0m\u001b[0m\n\u001b[0;32m-> 1219\u001b[0;31m                 \u001b[0;32mraise\u001b[0m \u001b[0mKeyboardInterrupt\u001b[0m\u001b[0;34m(\u001b[0m\u001b[0;34m\"Interrupted by user\"\u001b[0m\u001b[0;34m)\u001b[0m \u001b[0;32mfrom\u001b[0m \u001b[0;32mNone\u001b[0m\u001b[0;34m\u001b[0m\u001b[0;34m\u001b[0m\u001b[0m\n\u001b[0m\u001b[1;32m   1220\u001b[0m             \u001b[0;32mexcept\u001b[0m \u001b[0mException\u001b[0m\u001b[0;34m:\u001b[0m\u001b[0;34m\u001b[0m\u001b[0;34m\u001b[0m\u001b[0m\n\u001b[1;32m   1221\u001b[0m                 \u001b[0mself\u001b[0m\u001b[0;34m.\u001b[0m\u001b[0mlog\u001b[0m\u001b[0;34m.\u001b[0m\u001b[0mwarning\u001b[0m\u001b[0;34m(\u001b[0m\u001b[0;34m\"Invalid Message:\"\u001b[0m\u001b[0;34m,\u001b[0m \u001b[0mexc_info\u001b[0m\u001b[0;34m=\u001b[0m\u001b[0;32mTrue\u001b[0m\u001b[0;34m)\u001b[0m\u001b[0;34m\u001b[0m\u001b[0;34m\u001b[0m\u001b[0m\n",
            "\u001b[0;31mKeyboardInterrupt\u001b[0m: Interrupted by user"
          ]
        }
      ]
    },
    {
      "cell_type": "code",
      "source": [
        "# prompt: Genera un codigo que reciba un numero en base decimal flotante y lo transforme a binario. octal y hexadecimal\n",
        "\n",
        "def decimal_a_base(n, base):\n",
        "  digits = \"0123456789ABCDEF\"\n",
        "  result = \"\"\n",
        "  if n == 0:\n",
        "    return \"0\"\n",
        "  while n > 0:\n",
        "    remainder = n % base\n",
        "    result = digits[remainder] + result\n",
        "    n //= base\n",
        "  return result\n",
        "\n",
        "def float_decimal_to_binary(n):\n",
        "  integer_part = int(n)\n",
        "  fractional_part = n - integer_part\n",
        "\n",
        "  integer_binary = decimal_a_base(integer_part, 2)\n",
        "\n",
        "  fractional_binary = \"\"\n",
        "  for _ in range(10):  # Limit to 10 fractional digits\n",
        "      fractional_part *= 2\n",
        "      if fractional_part >= 1:\n",
        "          fractional_binary += \"1\"\n",
        "          fractional_part -= 1\n",
        "      else:\n",
        "          fractional_binary += \"0\"\n",
        "      if fractional_part == 0:\n",
        "          break\n",
        "\n",
        "  return integer_binary + \".\" + fractional_binary\n",
        "\n",
        "decimal_number = float(input(\"Ingrese un número decimal flotante: \"))\n",
        "\n",
        "binario = float_decimal_to_binary(decimal_number)\n",
        "octal = decimal_a_base(int(decimal_number), 8) #octal only for integer part\n",
        "hexadecimal = decimal_a_base(int(decimal_number), 16) #hex only for integer part\n",
        "\n",
        "\n",
        "print(f\"El numero {decimal_number} en binario es {binario}\")\n",
        "print(f\"El numero {decimal_number} en octal es {octal}\")\n",
        "print(f\"El numero {decimal_number} en hexadecimal es {hexadecimal}\")\n"
      ],
      "metadata": {
        "colab": {
          "base_uri": "https://localhost:8080/"
        },
        "id": "2pwrlBydcSeB",
        "outputId": "70c71e2b-21e5-4d20-d349-fcba284356b7"
      },
      "execution_count": 20,
      "outputs": [
        {
          "output_type": "stream",
          "name": "stdout",
          "text": [
            "Ingrese un número decimal flotante: 0.125\n",
            "El numero 0.125 en binario es 0.001\n",
            "El numero 0.125 en octal es 0\n",
            "El numero 0.125 en hexadecimal es 0\n"
          ]
        }
      ]
    }
  ]
}